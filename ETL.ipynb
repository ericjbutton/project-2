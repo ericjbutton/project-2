{
 "cells": [
  {
   "cell_type": "markdown",
   "id": "57e2a50e",
   "metadata": {},
   "source": [
    "# Overview\n",
    "\n",
    "**ETL** : Extract, Transform, Load Project\n",
    "\n",
    "**Extract**: extract data from different sources, read the data, and store into a dataframe.\n",
    "\n",
    "**Transform**: clean, structure, and transform the raw data that has been extracted from the sources into a specific schema, so it meets the operation needs.\n",
    "\n",
    "**Load**: load and store the data into a database for future analysis.\n",
    "\n",
    "Data Sources:\n",
    "1. Minimum Wage Data: https://www.kaggle.com/datasets/lislejoem/us-minimum-wage-by-state-from-1968-to-2017\n",
    "\n",
    "1. Energy Data: https://www.kaggle.com/datasets/lislejoem/us_energy_census_gdp_10-14?resource=download"
   ]
  },
  {
   "cell_type": "code",
   "execution_count": null,
   "id": "42e0cc72",
   "metadata": {},
   "outputs": [],
   "source": [
    "import pandas as pd\n",
    "from sqlalchemy import create_engine, inspect"
   ]
  },
  {
   "cell_type": "markdown",
   "id": "6024ebfe",
   "metadata": {},
   "source": [
    "# Extract"
   ]
  },
  {
   "cell_type": "markdown",
   "id": "5a168a4d",
   "metadata": {},
   "source": [
    "## Store CSV into DataFrame"
   ]
  },
  {
   "cell_type": "code",
   "execution_count": null,
   "id": "78e5f72a",
   "metadata": {},
   "outputs": [],
   "source": [
    "#Load in energy data\n",
    "csv_file_1 = \"resources/energy_census_and_economic_data_US_2010-2014.csv\"\n",
    "energy_df = pd.read_csv(csv_file_1)\n",
    "energy_df.head()"
   ]
  },
  {
   "cell_type": "code",
   "execution_count": null,
   "id": "8d1087ab",
   "metadata": {},
   "outputs": [],
   "source": [
    "#Load in minimum wage data\n",
    "csv_file_2 = \"resources/minimum_wage_data.csv\"\n",
    "minimum_wage_df = pd.read_csv(csv_file_2,encoding='ISO-8859-1')\n",
    "minimum_wage_df.head()"
   ]
  },
  {
   "cell_type": "markdown",
   "id": "b59992d2",
   "metadata": {},
   "source": [
    "# Transform"
   ]
  },
  {
   "cell_type": "code",
   "execution_count": null,
   "id": "10a699bc",
   "metadata": {},
   "outputs": [],
   "source": [
    "#Cleaning Energy Consumption Data\n",
    "year = []\n",
    "state = []\n",
    "energy_consumption = []\n",
    "gdp = []\n",
    "\n",
    "year_starter = 2010\n",
    "year_counter = 0\n",
    "\n",
    "\n",
    "while True:\n",
    "    for index, row in energy_df.iterrows():\n",
    "        if (index == 51):\n",
    "            year.append(year_starter + year_counter)\n",
    "            state.append(energy_df['State'][index])\n",
    "            energy_consumption.append(energy_df[f\"TotalC{year_starter + year_counter}\"][index])\n",
    "            gdp.append(energy_df[f\"GDP{year_starter + year_counter}\"][index])\n",
    "            year_counter += 1\n",
    "            continue\n",
    "\n",
    "        else:\n",
    "            year.append(year_starter + year_counter)\n",
    "            state.append(energy_df['State'][index])\n",
    "            energy_consumption.append(energy_df[f\"TotalC{year_starter + year_counter}\"][index])\n",
    "            gdp.append(energy_df[f\"GDP{year_starter + year_counter}\"][index])\n",
    "    \n",
    "    if (year_starter + year_counter == 2015):\n",
    "        break"
   ]
  },
  {
   "cell_type": "code",
   "execution_count": null,
   "id": "52034005",
   "metadata": {},
   "outputs": [],
   "source": [
    "energy_df_cleaned = pd.DataFrame({\n",
    "#     'year_state': year_state,\n",
    "    'year': year,\n",
    "    'state': state,\n",
    "    'total_energy': energy_consumption ,\n",
    "    'gdp': gdp\n",
    "})\n",
    "\n",
    "energy_df_cleaned"
   ]
  },
  {
   "cell_type": "code",
   "execution_count": null,
   "id": "303a435b",
   "metadata": {},
   "outputs": [],
   "source": [
    "#Cleaning Minimum Wage Data\n",
    "# minimum_wage_df_cleaned = minimum_wage_df[['Year', 'State', 'State.Minimum.Wage', 'State.Minimum.Wage.2020.Dollars']].copy()\n",
    "# minimum_wage_df_cleaned.head()\n",
    "reduced_min_wage_data_df = minimum_wage_df[['Year', 'State', 'State.Minimum.Wage', 'CPI.Average']].copy()\n",
    "renamed_min_wage_data_df = reduced_min_wage_data_df.rename(columns={'Year':'year', 'State':'state', 'State.Minimum.Wage': 'state_minimum_wage', 'CPI.Average':'cpi_average'})\n",
    "\n",
    "cleaned_min_wage_data_df = renamed_min_wage_data_df.loc[  (renamed_min_wage_data_df['year'] > 2009) & (renamed_min_wage_data_df['year'] < 2015)]\n",
    "cleaned_min_wage_data_df"
   ]
  },
  {
   "cell_type": "markdown",
   "id": "0437f9af",
   "metadata": {},
   "source": [
    "## Create database connection"
   ]
  },
  {
   "cell_type": "code",
   "execution_count": null,
   "id": "dd66d275",
   "metadata": {},
   "outputs": [],
   "source": [
    "protocol = 'postgresql'\n",
    "username = 'postgres'\n",
    "password = 'bootcamp'\n",
    "host = 'localhost'\n",
    "port = 5432\n",
    "database_name = 'energy_db'\n",
    "rds_connection_string = f'{protocol}://{username}:{password}@{host}:{port}/{database_name}'\n",
    "engine = create_engine(rds_connection_string)"
   ]
  },
  {
   "cell_type": "code",
   "execution_count": null,
   "id": "74340037",
   "metadata": {},
   "outputs": [],
   "source": [
    "# Confirm tables\n",
    "inspector = inspect(engine)\n",
    "inspector.get_table_names()"
   ]
  },
  {
   "cell_type": "markdown",
   "id": "1141a3c9",
   "metadata": {},
   "source": [
    "## Load DataFrames into database"
   ]
  },
  {
   "cell_type": "code",
   "execution_count": null,
   "id": "e587dec0",
   "metadata": {},
   "outputs": [],
   "source": [
    "energy_df_cleaned.to_sql(name='energy_consumption', con=engine, if_exists='append', index=False)"
   ]
  },
  {
   "cell_type": "code",
   "execution_count": null,
   "id": "fdbcd5ee",
   "metadata": {},
   "outputs": [],
   "source": [
    "cleaned_min_wage_data_df.to_sql(name='minimum_wage', con=engine, if_exists='append', index=False)"
   ]
  },
  {
   "cell_type": "markdown",
   "id": "c6e051d8",
   "metadata": {},
   "source": [
    "## Confirm data has been added by querying the DB table"
   ]
  },
  {
   "cell_type": "code",
   "execution_count": null,
   "id": "7ae8619a",
   "metadata": {},
   "outputs": [],
   "source": [
    "pd.read_sql_query('select * from energy_consumption', con=engine).head()"
   ]
  },
  {
   "cell_type": "code",
   "execution_count": null,
   "id": "666fc93a",
   "metadata": {},
   "outputs": [],
   "source": [
    "pd.read_sql_query('select * from minimum_wage', con=engine).head()"
   ]
  },
  {
   "cell_type": "code",
   "execution_count": null,
   "id": "f3fa0e32",
   "metadata": {},
   "outputs": [],
   "source": []
  }
 ],
 "metadata": {
  "kernelspec": {
   "display_name": "Python 3 (ipykernel)",
   "language": "python",
   "name": "python3"
  },
  "language_info": {
   "codemirror_mode": {
    "name": "ipython",
    "version": 3
   },
   "file_extension": ".py",
   "mimetype": "text/x-python",
   "name": "python",
   "nbconvert_exporter": "python",
   "pygments_lexer": "ipython3",
   "version": "3.8.13"
  }
 },
 "nbformat": 4,
 "nbformat_minor": 5
}
